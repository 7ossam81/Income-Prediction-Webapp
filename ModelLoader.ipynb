{
 "cells": [
  {
   "cell_type": "code",
   "execution_count": 1,
   "metadata": {},
   "outputs": [
    {
     "ename": "SyntaxError",
     "evalue": "invalid syntax (<ipython-input-1-dd66337c25a2>, line 43)",
     "output_type": "error",
     "traceback": [
      "\u001b[0;36m  File \u001b[0;32m\"<ipython-input-1-dd66337c25a2>\"\u001b[0;36m, line \u001b[0;32m43\u001b[0m\n\u001b[0;31m    example_list=[34,Private,198693,10th,6,Never-married,Other-service,Not-in-family,White,Male,0,0,30,United-States]\u001b[0m\n\u001b[0m                                       ^\u001b[0m\n\u001b[0;31mSyntaxError\u001b[0m\u001b[0;31m:\u001b[0m invalid syntax\n"
     ]
    }
   ],
   "source": [
    "import pandas as pd\n",
    "import numpy as np\n",
    "import pandas as pd\n",
    "import numpy as np\n",
    "from sklearn import model_selection, preprocessing, metrics\n",
    "from sklearn.preprocessing import LabelEncoder, OneHotEncoder, StandardScaler\n",
    "\n",
    "\n",
    "def clean_data(to_predict):\n",
    "    df.replace(['Divorced', 'Married-AF-spouse', 'Married-civ-spouse', 'Married-spouse-absent','Never-married','Separated','Widowed'],\n",
    "             ['divorced','married','married','married','not married','not married','not married'], inplace = True)\n",
    "    labelEncoder = preprocessing.LabelEncoder()\n",
    "    category_col =['race','marital-status', 'gender', 'income'] \n",
    "\n",
    "    for col in category_col:\n",
    "        df[col] = labelEncoder.fit_transform(df[col])\n",
    "\n",
    "    category_col_1 =['workclass', 'education', 'occupation',\n",
    "                   'relationship','native-country'] \n",
    "    df_2 = pd.get_dummies(df, columns=category_col_1, drop_first=True)\n",
    "    dataframe=df_2.drop('fnlwgt',1)\n",
    "    dataframe =dataframe[[c for c in dataframe if c not in ['income']] + ['income']]\n",
    "    return dataframe\n",
    "\n",
    "def ValuePredictor(to_predict_list):\n",
    "    to_predict = np.array(to_predict_list).reshape(1,13)\n",
    "    \n",
    "    # load json and create model\n",
    "    json_file = open('NNmodel/model.json', 'r')\n",
    "    loaded_model_json = json_file.read()\n",
    "    json_file.close()\n",
    "    loaded_model = model_from_json(loaded_model_json)\n",
    "    \n",
    "    # load weights into new model\n",
    "    loaded_model.load_weights(\"NNmodel/model.h5\")\n",
    "    print(\"Loaded model from disk\")\n",
    "    \n",
    "    to_predict=clean_data(to_predict)\n",
    "    \n",
    "    result = loaded_model.predict(to_predict)\n",
    "    return result[0]\n",
    "\n",
    "example_list=[34,Private,198693,10th,6,Never-married,Other-service,Not-in-family,White,Male,0,0,30,United-States]\n",
    "print(ValuePredictor(example_list))"
   ]
  },
  {
   "cell_type": "code",
   "execution_count": null,
   "metadata": {},
   "outputs": [],
   "source": []
  }
 ],
 "metadata": {
  "kernelspec": {
   "display_name": "TensorFlow",
   "language": "python",
   "name": "tensorflow"
  },
  "language_info": {
   "codemirror_mode": {
    "name": "ipython",
    "version": 3
   },
   "file_extension": ".py",
   "mimetype": "text/x-python",
   "name": "python",
   "nbconvert_exporter": "python",
   "pygments_lexer": "ipython3",
   "version": "3.6.5"
  }
 },
 "nbformat": 4,
 "nbformat_minor": 2
}
