{
 "cells": [
  {
   "cell_type": "code",
   "execution_count": 58,
   "metadata": {
    "scrolled": true
   },
   "outputs": [],
   "source": [
    "# coding: utf-8\n",
    "# Author - Ritvik Khanna \n",
    "# Date - 07/12/18 \n",
    "# Version - 1.3 \n",
    "\n",
    "\n",
    "# Load libraries\n",
    "import pandas\n",
    "import numpy\n",
    "import json\n",
    "from sklearn import metrics\n",
    "from pandas.tools.plotting import scatter_matrix\n",
    "import matplotlib.pyplot as plt\n",
    "from sklearn import model_selection\n",
    "from sklearn.metrics import classification_report\n",
    "from sklearn.metrics import confusion_matrix\n",
    "from sklearn.metrics import accuracy_score\n",
    "from sklearn.linear_model import LogisticRegression\n",
    "from sklearn.tree import DecisionTreeClassifier\n",
    "from sklearn.ensemble import RandomForestClassifier\n",
    "from sklearn.neighbors import KNeighborsClassifier\n",
    "from sklearn.discriminant_analysis import LinearDiscriminantAnalysis\n",
    "from sklearn.naive_bayes import GaussianNB\n",
    "from sklearn import preprocessing\n",
    "from sklearn.model_selection import train_test_split\n",
    "from sklearn import tree\n",
    "from sklearn.externals import joblib\n",
    "\n",
    "# Load dataset\n",
    "url = \"Dataset/adult.csv\"\n",
    "#url = \"http://archive.ics.uci.edu/ml/machine-learning-databases/adult/adult.data\"\n",
    "# names = ['age','workclass','fnlwgt','education','education-num','marital-status','occupation','relationship','race','sex','capital-gain','capital-loss','hours-per-week','native-country','income']\n",
    "df = pandas.read_csv(url)\n",
    "\n",
    "# filling missing values\n",
    "col_names = df.columns\n",
    "for c in col_names:\n",
    "    df[c] = df[c].replace(\"?\", numpy.NaN)\n",
    "\n",
    "df = df.apply(lambda x:x.fillna(x.value_counts().index[0]))\n",
    "\n",
    "df.replace(['Divorced', 'Married-AF-spouse', \n",
    "              'Married-civ-spouse', 'Married-spouse-absent', \n",
    "              'Never-married','Separated','Widowed'],\n",
    "             ['divorced','married','married','married',\n",
    "              'not married','not married','not married'], inplace = True)\n",
    "\n",
    "category_col =['workclass', 'race', 'education','marital-status', 'occupation',\n",
    "               'relationship', 'gender', 'native-country', 'income'] \n",
    "labelEncoder = preprocessing.LabelEncoder()\n",
    "\n",
    "mapping_dict={}\n",
    "for col in category_col:\n",
    "    df[col] = labelEncoder.fit_transform(df[col])\n",
    "    le_name_mapping = dict(zip(labelEncoder.classes_, labelEncoder.transform(labelEncoder.classes_)))\n",
    "    mapping_dict[col]=le_name_mapping\n",
    "\n",
    "\n",
    "# with open('NNmodel/mapping.json', 'w') as fp:\n",
    "#     json.dump((mapping_dict), fp)"
   ]
  },
  {
   "cell_type": "code",
   "execution_count": 59,
   "metadata": {},
   "outputs": [
    {
     "name": "stdout",
     "output_type": "stream",
     "text": [
      "Desicion Tree using Gini Index\n",
      "Accuracy is  85.0406060192452\n",
      "Desicion Tree using Information Gain\n",
      "Accuracy is  85.03378147819559\n"
     ]
    }
   ],
   "source": [
    "X = df.values[:, 0:14]\n",
    "Y = df.values[:,14]\n",
    "\n",
    "X_train, X_test, y_train, y_test = train_test_split( X, Y, test_size = 0.3, random_state = 100)\n",
    "\n",
    "\n",
    "dt_clf_gini = DecisionTreeClassifier(criterion = \"gini\", random_state = 100,\n",
    "                               max_depth=5, min_samples_leaf=5)\n",
    "dt_clf_gini.fit(X_train, y_train)\n",
    "### Desicion Tree with Information Gain ###\n",
    "\n",
    "dt_clf_entropy = DecisionTreeClassifier(criterion = \"entropy\", random_state = 100,\n",
    " max_depth=5, min_samples_leaf=5)\n",
    "\n",
    "dt_clf_entropy.fit(X_train, y_train)\n",
    "\n",
    "y_pred_gini = dt_clf_gini.predict(X_test)\n",
    "y_pred_en = dt_clf_entropy.predict(X_test)\n",
    "\n",
    "print (\"Desicion Tree using Gini Index\\nAccuracy is \", accuracy_score(y_test,y_pred_gini)*100 )\n",
    "print (\"Desicion Tree using Information Gain\\nAccuracy is \", accuracy_score(y_test,y_pred_en)*100 )"
   ]
  },
  {
   "cell_type": "code",
   "execution_count": 61,
   "metadata": {},
   "outputs": [
    {
     "data": {
      "text/plain": [
       "['model.sav']"
      ]
     },
     "execution_count": 61,
     "metadata": {},
     "output_type": "execute_result"
    }
   ],
   "source": [
    "filename = 'model.sav'\n",
    "joblib.dump(dt_clf_gini, filename)"
   ]
  }
 ],
 "metadata": {
  "kernelspec": {
   "display_name": "TensorFlow",
   "language": "python",
   "name": "tensorflow"
  },
  "language_info": {
   "codemirror_mode": {
    "name": "ipython",
    "version": 3
   },
   "file_extension": ".py",
   "mimetype": "text/x-python",
   "name": "python",
   "nbconvert_exporter": "python",
   "pygments_lexer": "ipython3",
   "version": "3.6.5"
  }
 },
 "nbformat": 4,
 "nbformat_minor": 2
}
